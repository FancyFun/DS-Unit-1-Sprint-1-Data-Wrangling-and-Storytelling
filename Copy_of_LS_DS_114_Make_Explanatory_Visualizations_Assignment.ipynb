{
  "nbformat": 4,
  "nbformat_minor": 0,
  "metadata": {
    "colab": {
      "name": "Copy of LS_DS_114_Make_Explanatory_Visualizations_Assignment.ipynb",
      "provenance": [],
      "collapsed_sections": [],
      "include_colab_link": true
    },
    "language_info": {
      "codemirror_mode": {
        "name": "ipython",
        "version": 3
      },
      "file_extension": ".py",
      "mimetype": "text/x-python",
      "name": "python",
      "nbconvert_exporter": "python",
      "pygments_lexer": "ipython3",
      "version": "3.7.1"
    },
    "kernelspec": {
      "display_name": "Python 3",
      "language": "python",
      "name": "python3"
    }
  },
  "cells": [
    {
      "cell_type": "markdown",
      "metadata": {
        "id": "view-in-github",
        "colab_type": "text"
      },
      "source": [
        "<a href=\"https://colab.research.google.com/github/FancyFun/DS-Unit-1-Sprint-1-Data-Wrangling-and-Storytelling/blob/master/Copy_of_LS_DS_114_Make_Explanatory_Visualizations_Assignment.ipynb\" target=\"_parent\"><img src=\"https://colab.research.google.com/assets/colab-badge.svg\" alt=\"Open In Colab\"/></a>"
      ]
    },
    {
      "cell_type": "markdown",
      "metadata": {
        "colab_type": "text",
        "id": "NMEswXWh9mqw"
      },
      "source": [
        "Lambda School Data Science\n",
        "\n",
        "*Unit 1, Sprint 1, Module 4*\n",
        "\n",
        "---\n",
        "\n",
        "# ASSIGNMENT\n",
        "\n",
        "### 1) Replicate the lesson code. I recommend that you [do not copy-paste](https://docs.google.com/document/d/1ubOw9B3Hfip27hF2ZFnW3a3z9xAgrUDRReOEo-FHCVs/edit).\n",
        "\n",
        "Get caught up to where we got our example in class and then try and take things further. How close to \"pixel perfect\" can you make the lecture graph?\n",
        "\n",
        "Once you have something that you're proud of, share your graph in the cohort channel and move on to the second exercise.\n",
        "\n",
        "### 2) Reproduce another example from [FiveThityEight's shared data repository](https://data.fivethirtyeight.com/).\n",
        "\n",
        "**WARNING**: There are a lot of very custom graphs and tables at the above link. I **highly** recommend not trying to reproduce any that look like a table of values or something really different from the graph types that we are already familiar with. Search through the posts until you find a graph type that you are more or less familiar with: histogram, bar chart, stacked bar chart, line chart, [seaborn relplot](https://seaborn.pydata.org/generated/seaborn.relplot.html), etc. Recreating some of the graphics that 538 uses would be a lot easier in Adobe photoshop/illustrator than with matplotlib. \n",
        "\n",
        "- If you put in some time to find a graph that looks \"easy\" to replicate you'll probably find that it's not as easy as you thought. \n",
        "\n",
        "- If you start with a graph that looks hard to replicate you'll probably run up against a brick wall and be disappointed with your afternoon.\n",
        "\n",
        "\n",
        "\n",
        "\n",
        "\n",
        "\n",
        "\n",
        "\n",
        "\n",
        "\n"
      ]
    },
    {
      "cell_type": "code",
      "metadata": {
        "id": "7SY1ZHawyZvz",
        "colab_type": "code",
        "colab": {}
      },
      "source": [
        "# Your Work Here\n",
        "import pandas as pd\n",
        "%matplotlib inline\n",
        "import matplotlib.pyplot as plt\n",
        "import seaborn as sns\n"
      ],
      "execution_count": null,
      "outputs": []
    },
    {
      "cell_type": "code",
      "metadata": {
        "id": "VABUPAgDCqUv",
        "colab_type": "code",
        "colab": {}
      },
      "source": [
        "pd.set_option('display.max_rows', 150)\n",
        "pd.set_option('display.max_columns', 100)"
      ],
      "execution_count": null,
      "outputs": []
    },
    {
      "cell_type": "code",
      "metadata": {
        "id": "uUuBRXJvyiNJ",
        "colab_type": "code",
        "colab": {
          "base_uri": "https://localhost:8080/",
          "height": 299
        },
        "outputId": "717ab9c2-0944-4351-f765-d9798249990a"
      },
      "source": [
        "\n",
        "uh = plt.subplot()\n",
        "\n",
        "eh = pd.Series([38, 3, 2, 1, 2, 4, 6, 5, 5, 33], index=range(1,11))\n",
        "\n",
        "plt.bar(x=[1,2,3,4,5,6,7,8,9,10], height=eh, color='#ED713A', width=0.9)\n",
        "\n",
        "uh.set_ylabel('Rating', fontsize=15, color='#ABABAB' )\n",
        "\n",
        "uh.set_xlabel('Percent of total votes', fontsize=15, color='#ABABAB')\n",
        "\n",
        "uh.set_xticks([1,2,3,4,5,6,7,8,9,10])\n",
        "\n",
        "uh.set_yticks([0, 10, 20, 30, 40])\n",
        "\n",
        "uh.set_yticklabels([0,10,20,30,'40%'], fontsize=8, color='#ABABAB')\n",
        "\n",
        "uh.set_xticklabels([1,2,3,4,5,6,7,8,9,10], fontsize=8, color='#ABABAB')\n",
        "\n",
        "\n",
        "\n",
        "\n",
        "plt.show()\n",
        "\n",
        "\n"
      ],
      "execution_count": null,
      "outputs": [
        {
          "output_type": "display_data",
          "data": {
            "image/png": "[encoded data removed]",
            "text/plain": [
              "<Figure size 432x288 with 1 Axes>"
            ]
          },
          "metadata": {
            "tags": []
          }
        }
      ]
    },
    {
      "cell_type": "code",
      "metadata": {
        "id": "PML6GOQ-4Gf6",
        "colab_type": "code",
        "colab": {}
      },
      "source": [
        "dft = pd.read_csv('https://github.com/fivethirtyeight/data/raw/master/scrabble-games/scrabble_games.csv')\n",
        "\n",
        "\n"
      ],
      "execution_count": null,
      "outputs": []
    },
    {
      "cell_type": "code",
      "metadata": {
        "id": "tGJ2MAHcQr8F",
        "colab_type": "code",
        "colab": {}
      },
      "source": [
        "dft.head()"
      ],
      "execution_count": null,
      "outputs": []
    },
    {
      "cell_type": "code",
      "metadata": {
        "id": "59E8ONYdX85b",
        "colab_type": "code",
        "colab": {}
      },
      "source": [
        ""
      ],
      "execution_count": null,
      "outputs": []
    },
    {
      "cell_type": "code",
      "metadata": {
        "id": "1KwBgPjrvadu",
        "colab_type": "code",
        "colab": {
          "base_uri": "https://localhost:8080/",
          "height": 675
        },
        "outputId": "c28859d6-f40e-45e3-d5b7-872524deee63"
      },
      "source": [
        "#fig, se = plt.subplots()\n",
        "\n",
        "\n",
        "something = plt.hist(dft['loserscore'],bins=850, facecolor='r', alpha=0.75)\n",
        "somethingE = plt.hist(dft['winnerscore'], bins=850, facecolor='g', alpha=0.75)\n",
        "\n",
        "#se.set_yticks([2500,5000,7500,10000])\n",
        "\n",
        "#se.set_xticks([0,200,400,600,800])\n",
        "\n",
        "#fig.set_figsize(10,10)\n",
        "\n",
        "#from matplotlib import rcParams\n",
        "\n",
        "plt.ylim(ymax = 10000, ymin = 1)\n",
        "\n",
        "plt.xlim(xmax = 800, xmin = 1)\n",
        "\n",
        "#rcParams['figure.figsize'] = 10,10\n",
        "\n",
        "plt.grid(True)\n",
        "\n",
        "plt.title('700,000 Games of Scrabble')\n",
        "\n",
        "plt.xlabel('Points')\n",
        "\n",
        "plt.ylabel('Scores')\n",
        "\n",
        "plt.show()"
      ],
      "execution_count": null,
      "outputs": [
        {
          "output_type": "display_data",
          "data": {
            "image/png": "[encoded data removed]",
            "text/plain": [
              "<Figure size 1080x720 with 1 Axes>"
            ]
          },
          "metadata": {
            "tags": []
          }
        }
      ]
    },
    {
      "cell_type": "code",
      "metadata": {
        "id": "kWBZ-kAjCzOg",
        "colab_type": "code",
        "colab": {}
      },
      "source": [
        "#fig, se = plt.subplots()\n",
        "\n",
        "\n",
        "something = plt.hist(dft['loserscore'],bins=850, facecolor='r', alpha=0.75)\n",
        "somethingE = plt.hist(dft['winnerscore'], bins=850, facecolor='g', alpha=0.75)\n",
        "\n",
        "#se.set_yticks([2500,5000,7500,10000])\n",
        "\n",
        "#se.set_xticks([0,200,400,600,800])\n",
        "\n",
        "#fig.set_figsize(10,10)\n",
        "\n",
        "#from matplotlib import rcParams\n",
        "\n",
        "plt.ylim(ymax = 10000, ymin = 1)\n",
        "\n",
        "plt.xlim(xmax = 800, xmin = 1)\n",
        "\n",
        "#rcParams['figure.figsize'] = 10,10\n",
        "\n",
        "plt.grid(True)\n",
        "\n",
        "plt.show()"
      ],
      "execution_count": null,
      "outputs": []
    },
    {
      "cell_type": "markdown",
      "metadata": {
        "id": "0wSrBzmJyWaV",
        "colab_type": "text"
      },
      "source": [
        "# STRETCH OPTIONS\n",
        "\n",
        "### 1) Reproduce one of the following using the matplotlib or seaborn libraries:\n",
        "\n",
        "- [thanksgiving-2015](https://fivethirtyeight.com/features/heres-what-your-part-of-america-eats-on-thanksgiving/) \n",
        "- [candy-power-ranking](https://fivethirtyeight.com/features/the-ultimate-halloween-candy-power-ranking/) \n",
        "- or another example of your choice!\n",
        "\n",
        "### 2) Make more charts!\n",
        "\n",
        "Choose a chart you want to make, from [Visual Vocabulary - Vega Edition](http://ft.com/vocabulary).\n",
        "\n",
        "Find the chart in an example gallery of a Python data visualization library:\n",
        "- [Seaborn](http://seaborn.pydata.org/examples/index.html)\n",
        "- [Altair](https://altair-viz.github.io/gallery/index.html)\n",
        "- [Matplotlib](https://matplotlib.org/gallery.html)\n",
        "- [Pandas](https://pandas.pydata.org/pandas-docs/stable/visualization.html)\n",
        "\n",
        "Reproduce the chart. [Optionally, try the \"Ben Franklin Method.\"](https://docs.google.com/document/d/1ubOw9B3Hfip27hF2ZFnW3a3z9xAgrUDRReOEo-FHCVs/edit) If you want, experiment and make changes.\n",
        "\n",
        "Take notes. Consider sharing your work with your cohort!"
      ]
    },
    {
      "cell_type": "code",
      "metadata": {
        "id": "dRJkKftiy5BJ",
        "colab_type": "code",
        "colab": {}
      },
      "source": [
        "# More Work Here"
      ],
      "execution_count": null,
      "outputs": []
    }
  ]
}